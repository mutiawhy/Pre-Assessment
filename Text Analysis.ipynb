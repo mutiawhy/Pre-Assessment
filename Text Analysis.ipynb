{
 "cells": [
  {
   "cell_type": "markdown",
   "metadata": {},
   "source": [
    "\n",
    "\n",
    "\n",
    "\n",
    "# Question. 3\n",
    "\n",
    "Feed the following paragraph into your favourite data analytics tool, and answer the following;\n",
    "\n",
    "a. What is the probability of the word “data” occurring in each line ?\n",
    "\n",
    "b. What is the distribution of distinct word counts across all the lines ?\n",
    "\n",
    "c. What is the probability of the word “analytics” occurring after the word “data” ?\n",
    "\n",
    "========================================================================================================================\n",
    "\n",
    "As a term, data analytics predominantly refers to an assortment of applications, from basic business intelligence (BI), \n",
    "reporting and online analytical processing (OLAP) to various forms of advanced analytics. In that sense, it's similar in nature to business analytics, another umbrella term for approaches to analyzing data -- with the difference that the latter is oriented to business uses, while data analytics has a broader focus. The expansive view of the term isn't universal, though: In some cases, people use data analytics specifically to mean advanced analytics, treating BI as a separate category. Data analytics initiatives can help businesses increase revenues, improve operational efficiency, optimize marketing campaigns and customer service efforts, respond more quickly to emerging market trends and gain a competitive edge over rivals -- all with the ultimate goal of boosting business performance. Depending on the particular application, the data that's analyzed can consist of either historical records or new information that has been processed for real-time analytics uses. In addition, it can come from a mix of internal systems and external data sources. At a high level, data analytics methodologies include exploratory data analysis (EDA), which aims to find patterns and relationships in data, and confirmatory data analysis (CDA), which applies statistical techniques to determine whether hypotheses about a data set are true or false. EDA is often compared to detective work, while CDA is akin to the work of a judge or jury during a court trial -- a distinction first drawn by statistician John W. Tukey in his 1977 book Exploratory Data Analysis. Data analytics can also be separated into quantitative data analysis and qualitative data analysis. The former involves analysis of numerical data with quantifiable variables that can be compared or measured statistically. The qualitative approach is more interpretive -- it focuses on understanding the content of non-numerical data like text, images, audio and video, including common phrases, themes and points of view.\n",
    "\n",
    "===========================================================================================================================\n",
    "\n"
   ]
  },
  {
   "cell_type": "code",
   "execution_count": 1,
   "metadata": {},
   "outputs": [],
   "source": [
    "import pandas as pd\n",
    "import numpy as np \n",
    "import matplotlib.pyplot as plt \n",
    "import seaborn as sns \n",
    "import warnings \n",
    "warnings.filterwarnings('ignore')\n",
    "import string\n",
    "from nltk.corpus import stopwords\n",
    "from sklearn.feature_extraction.text import CountVectorizer\n",
    "import re\n",
    "from nltk import word_tokenize\n",
    "from nltk.probability import FreqDist\n",
    "from collections import Counter "
   ]
  },
  {
   "cell_type": "code",
   "execution_count": 2,
   "metadata": {},
   "outputs": [],
   "source": [
    "#load file\n",
    "file = open(\"text.txt\")\n",
    "paragraphs= file.read()\n"
   ]
  },
  {
   "cell_type": "code",
   "execution_count": 3,
   "metadata": {},
   "outputs": [],
   "source": [
    "# function for cleaning text\n",
    "\n",
    "def text_processing_ori(message):\n",
    "    ## check punctuation \n",
    "    no_punctuation_text = [item for item in message if item not in string.punctuation]\n",
    "   \n",
    "    ## join no punctuation text \n",
    "    no_punctuation_text = ''.join(no_punctuation_text)\n",
    "    return no_punctuation_text\n",
    "\n",
    "text= text_processing_ori(paragraphs).lower()\n",
    "new_text=text.split('\\n')"
   ]
  },
  {
   "cell_type": "markdown",
   "metadata": {},
   "source": [
    "#### a. What is the probability of the word “data” occurring in each line ?"
   ]
  },
  {
   "cell_type": "code",
   "execution_count": 4,
   "metadata": {},
   "outputs": [
    {
     "name": "stdout",
     "output_type": "stream",
     "text": [
      "The probability of the word \"data\" occuring in line 1 is 0.07\n",
      "The probability of the word \"data\" occuring in line 2 is 0.0\n",
      "The probability of the word \"data\" occuring in line 3 is 0.0\n",
      "The probability of the word \"data\" occuring in line 4 is 0.08\n",
      "The probability of the word \"data\" occuring in line 5 is 0.07\n",
      "The probability of the word \"data\" occuring in line 6 is 0.08\n",
      "The probability of the word \"data\" occuring in line 7 is 0.08\n",
      "The probability of the word \"data\" occuring in line 8 is 0.0\n",
      "The probability of the word \"data\" occuring in line 9 is 0.0\n",
      "The probability of the word \"data\" occuring in line 10 is 0.0\n",
      "The probability of the word \"data\" occuring in line 11 is 0.07\n",
      "The probability of the word \"data\" occuring in line 12 is 0.0\n",
      "The probability of the word \"data\" occuring in line 13 is 0.14\n",
      "The probability of the word \"data\" occuring in line 14 is 0.15\n",
      "The probability of the word \"data\" occuring in line 15 is 0.08\n",
      "The probability of the word \"data\" occuring in line 16 is 0.06\n",
      "The probability of the word \"data\" occuring in line 17 is 0.0\n",
      "The probability of the word \"data\" occuring in line 18 is 0.14\n",
      "The probability of the word \"data\" occuring in line 19 is 0.18\n",
      "The probability of the word \"data\" occuring in line 20 is 0.08\n",
      "The probability of the word \"data\" occuring in line 21 is 0.0\n",
      "The probability of the word \"data\" occuring in line 22 is 0.08\n",
      "The probability of the word \"data\" occuring in line 23 is 0.0\n"
     ]
    }
   ],
   "source": [
    "#split sentences into word\n",
    "# count the frequency of word  \n",
    "\n",
    "token_words = []\n",
    "count = []\n",
    "\n",
    "for i in range(len(new_text)):    \n",
    "    token_words.append(word_tokenize(new_text[i]))\n",
    "    \n",
    "for i in range(len(token_words)):\n",
    "    count.append(FreqDist(token_words[i]))\n",
    "    prob= round(count[i]['data']/len(count[i]),2)   \n",
    "    print(f'The probability of the word \"data\" occuring in line {i+  1} is {prob}')  "
   ]
  },
  {
   "cell_type": "markdown",
   "metadata": {},
   "source": [
    "#### b. What is the distribution of distinct word counts across all the lines ?"
   ]
  },
  {
   "cell_type": "code",
   "execution_count": 5,
   "metadata": {},
   "outputs": [
    {
     "data": {
      "text/html": [
       "<div>\n",
       "<style scoped>\n",
       "    .dataframe tbody tr th:only-of-type {\n",
       "        vertical-align: middle;\n",
       "    }\n",
       "\n",
       "    .dataframe tbody tr th {\n",
       "        vertical-align: top;\n",
       "    }\n",
       "\n",
       "    .dataframe thead th {\n",
       "        text-align: right;\n",
       "    }\n",
       "</style>\n",
       "<table border=\"1\" class=\"dataframe\">\n",
       "  <thead>\n",
       "    <tr style=\"text-align: right;\">\n",
       "      <th></th>\n",
       "      <th>Unique</th>\n",
       "    </tr>\n",
       "  </thead>\n",
       "  <tbody>\n",
       "    <tr>\n",
       "      <td>0</td>\n",
       "      <td>14</td>\n",
       "    </tr>\n",
       "    <tr>\n",
       "      <td>1</td>\n",
       "      <td>13</td>\n",
       "    </tr>\n",
       "    <tr>\n",
       "      <td>2</td>\n",
       "      <td>12</td>\n",
       "    </tr>\n",
       "    <tr>\n",
       "      <td>3</td>\n",
       "      <td>13</td>\n",
       "    </tr>\n",
       "    <tr>\n",
       "      <td>4</td>\n",
       "      <td>15</td>\n",
       "    </tr>\n",
       "  </tbody>\n",
       "</table>\n",
       "</div>"
      ],
      "text/plain": [
       "   Unique\n",
       "0      14\n",
       "1      13\n",
       "2      12\n",
       "3      13\n",
       "4      15"
      ]
     },
     "execution_count": 5,
     "metadata": {},
     "output_type": "execute_result"
    }
   ],
   "source": [
    "#calculating the unique word of each line\n",
    "uniques = []\n",
    "for i in range(len(new_text)):\n",
    "    uniques.append(len(set(new_text[i].split())))\n",
    "\n",
    "#create dataframe    \n",
    "df= pd.DataFrame(uniques, columns=['Unique'])\n",
    "df.head()"
   ]
  },
  {
   "cell_type": "code",
   "execution_count": 6,
   "metadata": {},
   "outputs": [
    {
     "data": {
      "image/png": "[encoded data removed]",
      "text/plain": [
       "<Figure size 720x360 with 1 Axes>"
      ]
     },
     "metadata": {
      "needs_background": "light"
     },
     "output_type": "display_data"
    }
   ],
   "source": [
    "#ditribution of unique word\n",
    "plt.figure(figsize =(10,5))\n",
    "sns.distplot(df, color='red', kde=True);"
   ]
  },
  {
   "cell_type": "markdown",
   "metadata": {},
   "source": [
    "#### c. What is the probability of the word “analytics” occurring after the word “data” ?"
   ]
  },
  {
   "cell_type": "code",
   "execution_count": 25,
   "metadata": {},
   "outputs": [
    {
     "data": {
      "text/html": [
       "<div>\n",
       "<style scoped>\n",
       "    .dataframe tbody tr th:only-of-type {\n",
       "        vertical-align: middle;\n",
       "    }\n",
       "\n",
       "    .dataframe tbody tr th {\n",
       "        vertical-align: top;\n",
       "    }\n",
       "\n",
       "    .dataframe thead th {\n",
       "        text-align: right;\n",
       "    }\n",
       "</style>\n",
       "<table border=\"1\" class=\"dataframe\">\n",
       "  <thead>\n",
       "    <tr style=\"text-align: right;\">\n",
       "      <th></th>\n",
       "      <th>1977</th>\n",
       "      <th>1977 book</th>\n",
       "      <th>about</th>\n",
       "      <th>about data</th>\n",
       "      <th>addition</th>\n",
       "      <th>addition it</th>\n",
       "      <th>advanced</th>\n",
       "      <th>advanced analytics</th>\n",
       "      <th>aims</th>\n",
       "      <th>aims to</th>\n",
       "      <th>...</th>\n",
       "      <th>which aims</th>\n",
       "      <th>which applies</th>\n",
       "      <th>while</th>\n",
       "      <th>while data</th>\n",
       "      <th>with</th>\n",
       "      <th>with quantifiable</th>\n",
       "      <th>with the</th>\n",
       "      <th>work</th>\n",
       "      <th>work of</th>\n",
       "      <th>work while</th>\n",
       "    </tr>\n",
       "  </thead>\n",
       "  <tbody>\n",
       "    <tr>\n",
       "      <td>0</td>\n",
       "      <td>0</td>\n",
       "      <td>0</td>\n",
       "      <td>0</td>\n",
       "      <td>0</td>\n",
       "      <td>0</td>\n",
       "      <td>0</td>\n",
       "      <td>0</td>\n",
       "      <td>0</td>\n",
       "      <td>0</td>\n",
       "      <td>0</td>\n",
       "      <td>...</td>\n",
       "      <td>0</td>\n",
       "      <td>0</td>\n",
       "      <td>0</td>\n",
       "      <td>0</td>\n",
       "      <td>0</td>\n",
       "      <td>0</td>\n",
       "      <td>0</td>\n",
       "      <td>0</td>\n",
       "      <td>0</td>\n",
       "      <td>0</td>\n",
       "    </tr>\n",
       "    <tr>\n",
       "      <td>1</td>\n",
       "      <td>0</td>\n",
       "      <td>0</td>\n",
       "      <td>0</td>\n",
       "      <td>0</td>\n",
       "      <td>0</td>\n",
       "      <td>0</td>\n",
       "      <td>0</td>\n",
       "      <td>0</td>\n",
       "      <td>0</td>\n",
       "      <td>0</td>\n",
       "      <td>...</td>\n",
       "      <td>0</td>\n",
       "      <td>0</td>\n",
       "      <td>0</td>\n",
       "      <td>0</td>\n",
       "      <td>0</td>\n",
       "      <td>0</td>\n",
       "      <td>0</td>\n",
       "      <td>0</td>\n",
       "      <td>0</td>\n",
       "      <td>0</td>\n",
       "    </tr>\n",
       "    <tr>\n",
       "      <td>2</td>\n",
       "      <td>0</td>\n",
       "      <td>0</td>\n",
       "      <td>0</td>\n",
       "      <td>0</td>\n",
       "      <td>0</td>\n",
       "      <td>0</td>\n",
       "      <td>1</td>\n",
       "      <td>1</td>\n",
       "      <td>0</td>\n",
       "      <td>0</td>\n",
       "      <td>...</td>\n",
       "      <td>0</td>\n",
       "      <td>0</td>\n",
       "      <td>0</td>\n",
       "      <td>0</td>\n",
       "      <td>0</td>\n",
       "      <td>0</td>\n",
       "      <td>0</td>\n",
       "      <td>0</td>\n",
       "      <td>0</td>\n",
       "      <td>0</td>\n",
       "    </tr>\n",
       "    <tr>\n",
       "      <td>3</td>\n",
       "      <td>0</td>\n",
       "      <td>0</td>\n",
       "      <td>0</td>\n",
       "      <td>0</td>\n",
       "      <td>0</td>\n",
       "      <td>0</td>\n",
       "      <td>0</td>\n",
       "      <td>0</td>\n",
       "      <td>0</td>\n",
       "      <td>0</td>\n",
       "      <td>...</td>\n",
       "      <td>0</td>\n",
       "      <td>0</td>\n",
       "      <td>0</td>\n",
       "      <td>0</td>\n",
       "      <td>1</td>\n",
       "      <td>0</td>\n",
       "      <td>1</td>\n",
       "      <td>0</td>\n",
       "      <td>0</td>\n",
       "      <td>0</td>\n",
       "    </tr>\n",
       "    <tr>\n",
       "      <td>4</td>\n",
       "      <td>0</td>\n",
       "      <td>0</td>\n",
       "      <td>0</td>\n",
       "      <td>0</td>\n",
       "      <td>0</td>\n",
       "      <td>0</td>\n",
       "      <td>0</td>\n",
       "      <td>0</td>\n",
       "      <td>0</td>\n",
       "      <td>0</td>\n",
       "      <td>...</td>\n",
       "      <td>0</td>\n",
       "      <td>0</td>\n",
       "      <td>1</td>\n",
       "      <td>1</td>\n",
       "      <td>0</td>\n",
       "      <td>0</td>\n",
       "      <td>0</td>\n",
       "      <td>0</td>\n",
       "      <td>0</td>\n",
       "      <td>0</td>\n",
       "    </tr>\n",
       "  </tbody>\n",
       "</table>\n",
       "<p>5 rows × 460 columns</p>\n",
       "</div>"
      ],
      "text/plain": [
       "   1977  1977 book  about  about data  addition  addition it  advanced  \\\n",
       "0     0          0      0           0         0            0         0   \n",
       "1     0          0      0           0         0            0         0   \n",
       "2     0          0      0           0         0            0         1   \n",
       "3     0          0      0           0         0            0         0   \n",
       "4     0          0      0           0         0            0         0   \n",
       "\n",
       "   advanced analytics  aims  aims to  ...  which aims  which applies  while  \\\n",
       "0                   0     0        0  ...           0              0      0   \n",
       "1                   0     0        0  ...           0              0      0   \n",
       "2                   1     0        0  ...           0              0      0   \n",
       "3                   0     0        0  ...           0              0      0   \n",
       "4                   0     0        0  ...           0              0      1   \n",
       "\n",
       "   while data  with  with quantifiable  with the  work  work of  work while  \n",
       "0           0     0                  0         0     0        0           0  \n",
       "1           0     0                  0         0     0        0           0  \n",
       "2           0     0                  0         0     0        0           0  \n",
       "3           0     1                  0         1     0        0           0  \n",
       "4           1     0                  0         0     0        0           0  \n",
       "\n",
       "[5 rows x 460 columns]"
      ]
     },
     "execution_count": 25,
     "metadata": {},
     "output_type": "execute_result"
    }
   ],
   "source": [
    "vectorizer = CountVectorizer(ngram_range = (1,2))\n",
    "\n",
    "matrix = vectorizer.fit_transform(new_text)\n",
    "df = pd.DataFrame(matrix.toarray(),\n",
    "                      columns=vectorizer.get_feature_names())\n",
    "df.head(5)"
   ]
  },
  {
   "cell_type": "code",
   "execution_count": 26,
   "metadata": {},
   "outputs": [
    {
     "name": "stdout",
     "output_type": "stream",
     "text": [
      "So the probabilities of the occurrences of the words  “analytics” after \"data\" sequences is 0.3333333333333333\n"
     ]
    }
   ],
   "source": [
    "#Prob= The number of times data analytics appear together/The total number of times data appear alone\n",
    "\n",
    "prob= (df['data analytics'].sum()/df['data'].sum())\n",
    "\n",
    "print(f'So the probabilities of the occurrences of the words  “analytics” after \"data\" sequences is {prob}') \n"
   ]
  }
 ],
 "metadata": {
  "kernelspec": {
   "display_name": "Python 3",
   "language": "python",
   "name": "python3"
  },
  "language_info": {
   "codemirror_mode": {
    "name": "ipython",
    "version": 3
   },
   "file_extension": ".py",
   "mimetype": "text/x-python",
   "name": "python",
   "nbconvert_exporter": "python",
   "pygments_lexer": "ipython3",
   "version": "3.7.4"
  }
 },
 "nbformat": 4,
 "nbformat_minor": 2
}
